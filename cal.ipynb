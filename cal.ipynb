{
  "nbformat": 4,
  "nbformat_minor": 0,
  "metadata": {
    "colab": {
      "provenance": [],
      "authorship_tag": "ABX9TyPGaSiS4Nfo5OczqH2jjcPX",
      "include_colab_link": true
    },
    "kernelspec": {
      "name": "python3",
      "display_name": "Python 3"
    },
    "language_info": {
      "name": "python"
    }
  },
  "cells": [
    {
      "cell_type": "markdown",
      "metadata": {
        "id": "view-in-github",
        "colab_type": "text"
      },
      "source": [
        "<a href=\"https://colab.research.google.com/github/AsmaAlkhawaja/assignment/blob/main/cal.ipynb\" target=\"_parent\"><img src=\"https://colab.research.google.com/assets/colab-badge.svg\" alt=\"Open In Colab\"/></a>"
      ]
    },
    {
      "cell_type": "code",
      "execution_count": 7,
      "metadata": {
        "colab": {
          "base_uri": "https://localhost:8080/"
        },
        "id": "5o9z1nYgjPPI",
        "outputId": "a89aac5b-7d7e-491a-cb58-065ff72112c2"
      },
      "outputs": [
        {
          "output_type": "stream",
          "name": "stdout",
          "text": [
            "6\n",
            "24\n"
          ]
        }
      ],
      "source": [
        "def cal(opperetor,x,y,z):\n",
        "  if opperetor == \"+\":\n",
        "    print(x+y+z)\n",
        "  elif opperetor == \"-\":\n",
        "    print(x-y-z)\n",
        "  elif opperetor == \"*\":\n",
        "    print(x*z*y)\n",
        "  elif opperetor == \"/\":\n",
        "    print(x/y/z)\n",
        "  else:\n",
        "    print(\"NA\")\n",
        "cal(\"+\",1,2,3)\n",
        "cal(\"*\",2,3,4)"
      ]
    }
  ]
}